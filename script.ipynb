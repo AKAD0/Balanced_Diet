{
 "cells": [
  {
   "cell_type": "code",
   "execution_count": 23,
   "metadata": {},
   "outputs": [],
   "source": [
    "import numpy as np\n",
    "import matplotlib.pyplot as plt\n",
    "import ipywidgets as widgets\n",
    "from IPython.display import display, HTML"
   ]
  },
  {
   "cell_type": "code",
   "execution_count": 51,
   "metadata": {},
   "outputs": [
    {
     "data": {
      "application/vnd.jupyter.widget-view+json": {
       "model_id": "af58b65c04464da981b6d5292737312a",
       "version_major": 2,
       "version_minor": 0
      },
      "text/plain": [
       "HBox(children=(HTML(value='<b>Add products you consumed and Calculate overall nutrition</b>', placeholder='Som…"
      ]
     },
     "metadata": {},
     "output_type": "display_data"
    },
    {
     "data": {
      "application/vnd.jupyter.widget-view+json": {
       "model_id": "2bb1cd611214434d92a1a01e1b94f91c",
       "version_major": 2,
       "version_minor": 0
      },
      "text/plain": [
       "HBox(children=(Button(description='Add', style=ButtonStyle(), tooltip='Click me'), Button(description='Calcula…"
      ]
     },
     "metadata": {},
     "output_type": "display_data"
    },
    {
     "data": {
      "application/vnd.jupyter.widget-view+json": {
       "model_id": "015a29249aa444bdaca50af3d25b1929",
       "version_major": 2,
       "version_minor": 0
      },
      "text/plain": [
       "HBox(children=(Output(layout=Layout(border_bottom='1px solid black', border_left='1px solid black', border_rig…"
      ]
     },
     "metadata": {},
     "output_type": "display_data"
    }
   ],
   "source": [
    "out = widgets.Output(layout={'border': '1px solid black'})\n",
    "with out:\n",
    "    out.clear_output()\n",
    "\n",
    "HTML = widgets.HTML(\n",
    "    value=\"<b>Add products you consumed and Calculate overall nutrition</b>\",\n",
    "    placeholder='Some HTML1',\n",
    "    description='',\n",
    ")\n",
    "paragraph = widgets.HTML(\n",
    "    value=\"‎\",\n",
    "    placeholder='Some HTML1',\n",
    "    description='',\n",
    ")\n",
    "Add_btn = widgets.Button(\n",
    "    description='Add',\n",
    "    disabled=False,\n",
    "    button_style='', # 'success', 'info', 'warning', 'danger' or ''\n",
    "    tooltip='Click me',\n",
    "    icon='' # (FontAwesome names without the `fa-` prefix)\n",
    ")\n",
    "Calc_btn = widgets.Button(\n",
    "    description='Calculate',\n",
    "    disabled=False,\n",
    "    button_style='', # 'success', 'info', 'warning', 'danger' or ''\n",
    "    tooltip='Click me',\n",
    "    icon='' # (FontAwesome names without the `fa-` prefix)\n",
    ")\n",
    "Proteins = widgets.BoundedIntText(\n",
    "    style = {'description_width': 'initial'},\n",
    "    value=0,\n",
    "    min=0,\n",
    "    max=99999999,\n",
    "    step=1,\n",
    "    layout=widgets.Layout(width='75px'),\n",
    "    disabled=False\n",
    ")\n",
    "Fats = widgets.BoundedIntText(\n",
    "    style = {'description_width': 'initial'},\n",
    "    value=0,\n",
    "    min=0,\n",
    "    max=99999999,\n",
    "    step=1,\n",
    "    layout=widgets.Layout(width='75px'),\n",
    "    disabled=False\n",
    ")\n",
    "Carbs = widgets.BoundedIntText(\n",
    "    style = {'description_width': 'initial'},\n",
    "    value=0,\n",
    "    min=0,\n",
    "    max=99999999,\n",
    "    step=1,\n",
    "    layout=widgets.Layout(width='75px'),\n",
    "    disabled=False\n",
    ")\n",
    "Amount = widgets.BoundedIntText(\n",
    "    style = {'description_width': 'initial'},\n",
    "    value=0,\n",
    "    min=0,\n",
    "    max=99999999,\n",
    "    step=1,\n",
    "    description='Amount(gm):',\n",
    "    layout=widgets.Layout(width='150px'),\n",
    "    disabled=False\n",
    ")\n",
    "\n",
    "def add(button):\n",
    "    with out: \n",
    "        display(widgets.HBox([Proteins, Fats, Carbs, Amount]))\n",
    "        display(widgets.VBox(children=[paragraph]))\n",
    "    return\n",
    "\n",
    "def calc(button):\n",
    "    with out:\n",
    "        print(Proteins.value)\n",
    "    return\n",
    "\n",
    "def draw():\n",
    "    print('Specify Nutritional facts (Proteins, Fats, Carbs) and Grams:')\n",
    "    return\n",
    "\n",
    "with out:\n",
    "    draw()\n",
    "\n",
    "\n",
    "Add_btn.on_click(add)\n",
    "Calc_btn.on_click(calc)\n",
    "display(widgets.HBox([HTML]))\n",
    "display(widgets.HBox([Add_btn,Calc_btn]))\n",
    "display(widgets.HBox([out]))"
   ]
  },
  {
   "cell_type": "code",
   "execution_count": null,
   "metadata": {},
   "outputs": [],
   "source": []
  }
 ],
 "metadata": {
  "kernelspec": {
   "display_name": "Python 3",
   "language": "python",
   "name": "python3"
  },
  "language_info": {
   "codemirror_mode": {
    "name": "ipython",
    "version": 3
   },
   "file_extension": ".py",
   "mimetype": "text/x-python",
   "name": "python",
   "nbconvert_exporter": "python",
   "pygments_lexer": "ipython3",
   "version": "3.12.3"
  }
 },
 "nbformat": 4,
 "nbformat_minor": 2
}
