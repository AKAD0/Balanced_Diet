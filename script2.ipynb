{
 "cells": [
  {
   "cell_type": "code",
   "execution_count": 277,
   "metadata": {},
   "outputs": [],
   "source": [
    "import numpy as np\n",
    "import matplotlib.pyplot as plt\n",
    "import ipywidgets as widgets\n",
    "data = np.load('data.npy')"
   ]
  },
  {
   "cell_type": "code",
   "execution_count": 299,
   "metadata": {},
   "outputs": [
    {
     "data": {
      "application/vnd.jupyter.widget-view+json": {
       "model_id": "b4ab4343eedc4250a71da1fe8b8d152a",
       "version_major": 2,
       "version_minor": 0
      },
      "text/plain": [
       "VBox(children=(HTML(value='<b>Enter your last meal:</b>', placeholder='Some HTML1'), BoundedIntText(value=0, d…"
      ]
     },
     "metadata": {},
     "output_type": "display_data"
    }
   ],
   "source": [
    "val=data\n",
    "out = widgets.Output(layout={'border': '1px solid black'})\n",
    "with out:\n",
    "    out.clear_output()\n",
    "    print('Norms: [165gm, 25gm, 330gm, 1500-3000kc] (Proteins gm, Fats gm, Carbs gm, Total KCalories)')\n",
    "    print('N entries: ', val.shape[0])\n",
    "    t_proteins = val[val.shape[0]-1,:][0]\n",
    "    t_fats = val[val.shape[0]-1,:][1]\n",
    "    t_carbs = val[val.shape[0]-1,:][2]\n",
    "    t_cals = val[val.shape[0]-1,:][3]\n",
    "    print('Last entry: ['+str(t_proteins)+'gm, '+str(t_fats)+'gm, '+str(t_carbs)+'kc, '+str(t_cals)+'kc]')\n",
    "\n",
    "HTML = widgets.HTML(\n",
    "    value=\"<b>Enter your last meal:</b>\",\n",
    "    placeholder='Some HTML1',\n",
    "    description='',\n",
    ")\n",
    "Proteins = widgets.BoundedIntText(\n",
    "    value=0,\n",
    "    min=0,\n",
    "    max=99999999,\n",
    "    step=1,\n",
    "    description='Proteins (gm):',\n",
    "    disabled=False\n",
    ")\n",
    "Fats = widgets.BoundedIntText(\n",
    "    value=0,\n",
    "    min=0,\n",
    "    max=99999999,\n",
    "    step=1,\n",
    "    description='Fats (gm):',\n",
    "    disabled=False\n",
    ")\n",
    "Carbs = widgets.BoundedIntText(\n",
    "    value=0,\n",
    "    min=0,\n",
    "    max=99999999,\n",
    "    step=1,\n",
    "    description='Carbs (gm):',\n",
    "    disabled=False\n",
    ")\n",
    "button1 = widgets.Button(\n",
    "    description='Append',\n",
    "    disabled=False,\n",
    "    button_style='', # 'success', 'info', 'warning', 'danger' or ''\n",
    "    tooltip='Click me',\n",
    "    icon='' # (FontAwesome names without the `fa-` prefix)\n",
    ")\n",
    "\n",
    "def draw():\n",
    "    fig, axs = plt.subplots(4, figsize=(5,10))\n",
    "    axs[0].plot( np.arange( 0, val.shape[0], 1), val[:,0], marker='o', color='red')\n",
    "    axs[0].axhline(y=165, color='black', linestyle='--', label='normal')\n",
    "    axs[0].set_title('Proteins (gm)')\n",
    "    axs[0].set_ylim(0,500)\n",
    "    axs[0].grid(True)\n",
    "    P_median = np.median( val[:,0])\n",
    "    axs[0].axhline(y=P_median, color='red', linestyle='--', label='median')\n",
    "    axs[0].legend()\n",
    "\n",
    "    axs[1].plot( np.arange( 0, val.shape[0], 1), val[:,1], marker='o', color='green')\n",
    "    axs[1].axhline(y=25, color='black', linestyle='--', label='normal')\n",
    "    axs[1].set_title('Fats  (gm)')\n",
    "    axs[1].set_ylim(0,100)\n",
    "    axs[1].grid(True)\n",
    "    F_median = np.median( val[:,1])\n",
    "    axs[1].axhline(y=F_median, color='green', linestyle='--', label='median')\n",
    "    axs[1].legend()\n",
    "\n",
    "    axs[2].plot( np.arange( 0, val.shape[0], 1), val[:,2], marker='o', color='blue')\n",
    "    axs[2].axhline(y=330, color='black', linestyle='--', label='normal')\n",
    "    axs[2].set_title('Carbs (gm)')\n",
    "    axs[2].set_ylim(0,1000)\n",
    "    axs[2].grid(True)\n",
    "    C_median = np.median( val[:,2])\n",
    "    axs[2].axhline(y=C_median, color='blue', linestyle='--', label='median')\n",
    "    axs[2].legend()\n",
    "\n",
    "    axs[3].plot( np.arange( 0, val.shape[0], 1), val[:,3], marker='o', color='orange')\n",
    "    axs[3].axhline(y=1500, color='black', linestyle='--', label='normal')\n",
    "    axs[3].axhline(y=3000, color='black', linestyle='--')\n",
    "    axs[3].set_title('Calories (kc)')\n",
    "    axs[3].set_ylim(0,6000)\n",
    "    axs[3].grid(True)\n",
    "    Cal_median = np.median( val[:,3])\n",
    "    axs[3].axhline(y=Cal_median, color='orange', linestyle='--', label='median')\n",
    "    axs[3].legend()\n",
    "\n",
    "    plt.show()\n",
    "    return\n",
    "\n",
    "def foo(button):\n",
    "    global val\n",
    "    temp = np.array([[Proteins.value,Fats.value,Carbs.value, (Proteins.value*4+Fats.value*9+Carbs.value*4)]])\n",
    "    val=np.append(val, temp, axis=0)\n",
    "    with out:\n",
    "        out.clear_output()\n",
    "        print('Norms: [165gm, 25gm, 330gm, 1500-3000kc] (Proteins gm, Fats gm, Carbs gm, Total KCalories)')\n",
    "        print('N entries: ', val.shape[0])\n",
    "        t_proteins = val[val.shape[0]-1,:][0]\n",
    "        t_fats = val[val.shape[0]-1,:][1]\n",
    "        t_carbs = val[val.shape[0]-1,:][2]\n",
    "        t_cals = val[val.shape[0]-1,:][3]\n",
    "        print('Last entry: ['+str(t_proteins)+'gm, '+str(t_fats)+'gm, '+str(t_carbs)+'kc, '+str(t_cals)+'kc]')\n",
    "        draw()    \n",
    "    return\n",
    "\n",
    "with out:\n",
    "    draw()\n",
    "button1.on_click(foo)\n",
    "\n",
    "display(widgets.VBox(children=[HTML,Proteins,Fats,Carbs,button1,out]))"
   ]
  },
  {
   "cell_type": "code",
   "execution_count": 297,
   "metadata": {},
   "outputs": [
    {
     "data": {
      "text/plain": [
       "array([[ 165,   25,  330, 2205]])"
      ]
     },
     "execution_count": 297,
     "metadata": {},
     "output_type": "execute_result"
    }
   ],
   "source": [
    "val = np.array([[165,   25,  330, 2205]])\n",
    "val"
   ]
  },
  {
   "cell_type": "code",
   "execution_count": 298,
   "metadata": {},
   "outputs": [],
   "source": [
    "# Save new data\n",
    "data = val\n",
    "np.save('data.npy', data)"
   ]
  },
  {
   "cell_type": "code",
   "execution_count": null,
   "metadata": {},
   "outputs": [],
   "source": []
  }
 ],
 "metadata": {
  "kernelspec": {
   "display_name": "Python 3 (ipykernel)",
   "language": "python",
   "name": "python3"
  },
  "language_info": {
   "codemirror_mode": {
    "name": "ipython",
    "version": 3
   },
   "file_extension": ".py",
   "mimetype": "text/x-python",
   "name": "python",
   "nbconvert_exporter": "python",
   "pygments_lexer": "ipython3",
   "version": "3.12.3"
  }
 },
 "nbformat": 4,
 "nbformat_minor": 4
}
