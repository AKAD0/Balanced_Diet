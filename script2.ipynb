{
 "cells": [
  {
   "cell_type": "code",
   "execution_count": 201,
   "metadata": {},
   "outputs": [],
   "source": [
    "import numpy as np\n",
    "import matplotlib.pyplot as plt\n",
    "import ipywidgets as widgets\n",
    "data = np.load('data.npy')"
   ]
  },
  {
   "cell_type": "code",
   "execution_count": 234,
   "metadata": {},
   "outputs": [
    {
     "data": {
      "application/vnd.jupyter.widget-view+json": {
       "model_id": "c40dc561b2454a9699845d06e5ebbea5",
       "version_major": 2,
       "version_minor": 0
      },
      "text/plain": [
       "VBox(children=(BoundedIntText(value=0, description='Proteins:', max=99999999), BoundedIntText(value=0, descrip…"
      ]
     },
     "metadata": {},
     "output_type": "display_data"
    }
   ],
   "source": [
    "val=data\n",
    "out = widgets.Output(layout={'border': '1px solid black'})\n",
    "with out:\n",
    "    out.clear_output()\n",
    "    print('Norms: [660, 220, 1320, 2250] (Proteins, Fats, Carbs, Calories)')\n",
    "    print('N entries: ', val.shape[0])\n",
    "    print('Last entry: ',val[0,:])\n",
    "\n",
    "\n",
    "Proteins = widgets.BoundedIntText(\n",
    "    value=0,\n",
    "    min=0,\n",
    "    max=99999999,\n",
    "    step=1,\n",
    "    description='Proteins:',\n",
    "    disabled=False\n",
    ")\n",
    "Fats = widgets.BoundedIntText(\n",
    "    value=0,\n",
    "    min=0,\n",
    "    max=99999999,\n",
    "    step=1,\n",
    "    description='Fats:',\n",
    "    disabled=False\n",
    ")\n",
    "Carbs = widgets.BoundedIntText(\n",
    "    value=0,\n",
    "    min=0,\n",
    "    max=99999999,\n",
    "    step=1,\n",
    "    description='Carbs:',\n",
    "    disabled=False\n",
    ")\n",
    "Calories = widgets.BoundedIntText(\n",
    "    value=0,\n",
    "    min=0,\n",
    "    max=99999999,\n",
    "    step=1,\n",
    "    description='Calories:',\n",
    "    disabled=False\n",
    ")\n",
    "button1 = widgets.Button(\n",
    "    description='Append',\n",
    "    disabled=False,\n",
    "    button_style='', # 'success', 'info', 'warning', 'danger' or ''\n",
    "    tooltip='Click me',\n",
    "    icon='' # (FontAwesome names without the `fa-` prefix)\n",
    ")\n",
    "\n",
    "def draw():\n",
    "    fig, axs = plt.subplots(4, figsize=(5,10))\n",
    "    axs[0].plot( np.arange( 0, val.shape[0], 1), val[:,0], marker='o', color='red')\n",
    "    axs[0].axhline(y=660, color='black', linestyle='--')\n",
    "    axs[0].set_title('Proteins')\n",
    "    axs[0].set_ylim(0,1500)\n",
    "    axs[0].grid(True)\n",
    "    P_median = np.median( val[:,0])\n",
    "    axs[0].axhline(y=P_median, color='red', linestyle='--')\n",
    "\n",
    "    axs[1].plot( np.arange( 0, val.shape[0], 1), val[:,1], marker='o', color='green')\n",
    "    axs[1].axhline(y=220, color='black', linestyle='--')\n",
    "    axs[1].set_title('Fats')\n",
    "    axs[1].set_ylim(0,600)\n",
    "    axs[1].grid(True)\n",
    "    F_median = np.median( val[:,1])\n",
    "    axs[1].axhline(y=F_median, color='green', linestyle='--')\n",
    "\n",
    "    axs[2].plot( np.arange( 0, val.shape[0], 1), val[:,2], marker='o', color='blue')\n",
    "    axs[2].axhline(y=1320, color='black', linestyle='--')\n",
    "    axs[2].set_title('Carbs')\n",
    "    axs[2].set_ylim(0,4000)\n",
    "    axs[2].grid(True)\n",
    "    C_median = np.median( val[:,2])\n",
    "    axs[2].axhline(y=C_median, color='blue', linestyle='--')\n",
    "\n",
    "    axs[3].plot( np.arange( 0, val.shape[0], 1), val[:,3], marker='o', color='orange')\n",
    "    axs[3].axhline(y=1500, color='black', linestyle='--')\n",
    "    axs[3].axhline(y=3000, color='black', linestyle='--')\n",
    "    axs[3].set_title('Calories')\n",
    "    axs[3].set_ylim(0,6000)\n",
    "    axs[3].grid(True)\n",
    "    Cal_median = np.median( val[:,3])\n",
    "    axs[3].axhline(y=Cal_median, color='orange', linestyle='--')\n",
    "\n",
    "    plt.show()\n",
    "    return\n",
    "\n",
    "def foo2(button):\n",
    "    global val\n",
    "    val=np.append(val, np.array([[Proteins.value,Fats.value,Carbs.value,Calories.value]]), axis=0)\n",
    "    with out:\n",
    "        out.clear_output()\n",
    "        print('Norms: [660, 220, 1320, 2250] (Proteins, Fats, Carbs, Calories)')\n",
    "        print('N entries: ', val.shape[0])\n",
    "        print('Last entry: ',val[val.shape[0]-1,:])\n",
    "        draw()    \n",
    "    return\n",
    "\n",
    "with out:\n",
    "    draw()\n",
    "button1.on_click(foo2)\n",
    "\n",
    "display(widgets.VBox(children=[Proteins,Fats,Carbs,Calories,button1,out]))"
   ]
  },
  {
   "cell_type": "code",
   "execution_count": 235,
   "metadata": {},
   "outputs": [
    {
     "data": {
      "text/plain": [
       "array([[ 660,  220, 1320, 2250]])"
      ]
     },
     "execution_count": 235,
     "metadata": {},
     "output_type": "execute_result"
    }
   ],
   "source": [
    "data"
   ]
  },
  {
   "cell_type": "code",
   "execution_count": 216,
   "metadata": {},
   "outputs": [],
   "source": [
    "# Save new data\n",
    "data = val\n",
    "np.save('data.npy', data)"
   ]
  }
 ],
 "metadata": {
  "kernelspec": {
   "display_name": "Python 3 (ipykernel)",
   "language": "python",
   "name": "python3"
  },
  "language_info": {
   "codemirror_mode": {
    "name": "ipython",
    "version": 3
   },
   "file_extension": ".py",
   "mimetype": "text/x-python",
   "name": "python",
   "nbconvert_exporter": "python",
   "pygments_lexer": "ipython3",
   "version": "3.12.3"
  }
 },
 "nbformat": 4,
 "nbformat_minor": 4
}
